{
 "cells": [
  {
   "cell_type": "code",
   "execution_count": 1,
   "id": "0698f3e8",
   "metadata": {},
   "outputs": [
    {
     "name": "stderr",
     "output_type": "stream",
     "text": [
      "2025-07-28 09:16:33.668851: I tensorflow/tsl/cuda/cudart_stub.cc:28] Could not find cuda drivers on your machine, GPU will not be used.\n",
      "2025-07-28 09:16:33.700423: I tensorflow/tsl/cuda/cudart_stub.cc:28] Could not find cuda drivers on your machine, GPU will not be used.\n",
      "2025-07-28 09:16:33.701102: I tensorflow/core/platform/cpu_feature_guard.cc:182] This TensorFlow binary is optimized to use available CPU instructions in performance-critical operations.\n",
      "To enable the following instructions: AVX2 FMA, in other operations, rebuild TensorFlow with the appropriate compiler flags.\n",
      "2025-07-28 09:16:34.257563: W tensorflow/compiler/tf2tensorrt/utils/py_utils.cc:38] TF-TRT Warning: Could not find TensorRT\n"
     ]
    }
   ],
   "source": [
    "from sklearn.preprocessing import LabelBinarizer\n",
    "from sklearn.metrics import classification_report\n",
    "from tensorflow.keras.models import Sequential\n",
    "from tensorflow.keras.layers import Dense\n",
    "from tensorflow.keras.optimizers import SGD\n",
    "from tensorflow.keras.datasets import mnist\n",
    "from tensorflow.keras import backend as K\n",
    "import matplotlib.pyplot as plt\n",
    "import numpy as np\n",
    "import argparse"
   ]
  },
  {
   "cell_type": "code",
   "execution_count": 2,
   "id": "b1330211",
   "metadata": {},
   "outputs": [
    {
     "name": "stderr",
     "output_type": "stream",
     "text": [
      "usage: ipykernel_launcher.py [-h] -o OUTPUT\n",
      "ipykernel_launcher.py: error: the following arguments are required: -o/--output\n"
     ]
    },
    {
     "ename": "SystemExit",
     "evalue": "2",
     "output_type": "error",
     "traceback": [
      "An exception has occurred, use %tb to see the full traceback.\n",
      "\u001b[0;31mSystemExit\u001b[0m\u001b[0;31m:\u001b[0m 2\n"
     ]
    },
    {
     "name": "stderr",
     "output_type": "stream",
     "text": [
      "/usr/lib/python3/dist-packages/IPython/core/interactiveshell.py:3465: UserWarning: To exit: use 'exit', 'quit', or Ctrl-D.\n",
      "  warn(\"To exit: use 'exit', 'quit', or Ctrl-D.\", stacklevel=1)\n"
     ]
    }
   ],
   "source": [
    "#construct the argument parse and parse the argument\n",
    "ap = argparse.ArgumentParser()\n",
    "ap.add_argument(\"-o\", \"--output\", required=True,\n",
    "help=\"path to the output loss/accuracy plot\")\n",
    "args = vars(ap.parse_args())"
   ]
  },
  {
   "cell_type": "code",
   "execution_count": 3,
   "id": "acfd5edc",
   "metadata": {},
   "outputs": [
    {
     "name": "stdout",
     "output_type": "stream",
     "text": [
      "[info] accessing MNIST...\n"
     ]
    }
   ],
   "source": [
    "# grab the MNIST dataset\n",
    "\n",
    "print (\"[info] accessing MNIST...\")\n",
    "((trainX, trainY), (testX, testY)) = mnist.load_data()"
   ]
  },
  {
   "cell_type": "code",
   "execution_count": null,
   "id": "4a132153",
   "metadata": {},
   "outputs": [],
   "source": [
    "# each image in the MNIST dataset is represented as a 28x28x1\n",
    "# image, but in order to apply a standard neural network we must\n",
    "# first \"flatten\" the image to be simple list of 28x28=784 pixels"
   ]
  },
  {
   "cell_type": "code",
   "execution_count": 4,
   "id": "5bb53e57",
   "metadata": {},
   "outputs": [],
   "source": [
    "trainX = trainX.reshape((trainX.shape[0], 28 * 28 * 1))\n",
    "testX = testX.reshape((testX.shape[0], 28 * 28 * 1))"
   ]
  },
  {
   "cell_type": "code",
   "execution_count": null,
   "id": "112e2b48",
   "metadata": {},
   "outputs": [],
   "source": [
    "# scale data to the range of [0,1]"
   ]
  },
  {
   "cell_type": "code",
   "execution_count": 5,
   "id": "b014059c",
   "metadata": {},
   "outputs": [],
   "source": [
    "trainX = trainX.astype(\"float32\")/255.0\n",
    "testX = testX.astype(\"float32\") / 255.0"
   ]
  },
  {
   "cell_type": "code",
   "execution_count": 6,
   "id": "d38ecdf4",
   "metadata": {},
   "outputs": [
    {
     "name": "stdout",
     "output_type": "stream",
     "text": [
      "trainY shape: (60000,)\n"
     ]
    }
   ],
   "source": [
    "print(\"trainY shape:\", trainY.shape)"
   ]
  },
  {
   "cell_type": "code",
   "execution_count": 7,
   "id": "1a565d7e",
   "metadata": {},
   "outputs": [
    {
     "name": "stdout",
     "output_type": "stream",
     "text": [
      "trainY sample: [5 0 4 1 9]\n"
     ]
    }
   ],
   "source": [
    "print(\"trainY sample:\", trainY[:5])"
   ]
  },
  {
   "cell_type": "code",
   "execution_count": 8,
   "id": "dc9d7202",
   "metadata": {},
   "outputs": [
    {
     "name": "stdout",
     "output_type": "stream",
     "text": [
      "trainY dtype: uint8\n",
      "trainY sample: [5 0 4 1 9 2 1 3 1 4]\n"
     ]
    }
   ],
   "source": [
    "print(\"trainY dtype:\", trainY.dtype)\n",
    "print(\"trainY sample:\", trainY[:10])"
   ]
  },
  {
   "cell_type": "code",
   "execution_count": 9,
   "id": "100cbb54",
   "metadata": {},
   "outputs": [],
   "source": [
    "\n",
    "# converts the labels from integers to vectors\n",
    "\n",
    "from sklearn.preprocessing import LabelBinarizer\n",
    "\n",
    "lb = LabelBinarizer()\n",
    "trainY = lb.fit_transform(trainY)\n",
    "testY = lb.transform(testY)"
   ]
  },
  {
   "cell_type": "code",
   "execution_count": 11,
   "id": "2687c780",
   "metadata": {},
   "outputs": [],
   "source": [
    "one_hot_map = {\n",
    "    0: [1, 0, 0, 0, 0, 0, 0, 0, 0, 0],\n",
    "    1: [0, 1, 0, 0, 0, 0, 0, 0, 0, 0],\n",
    "    2: [0, 0, 1, 0, 0, 0, 0, 0, 0, 0],\n",
    "    3: [0, 0, 0, 1, 0, 0, 0, 0, 0, 0],\n",
    "    4: [0, 0, 0, 0, 1, 0, 0, 0, 0, 0],\n",
    "    5: [0, 0, 0, 0, 0, 1, 0, 0, 0, 0],\n",
    "    6: [0, 0, 0, 0, 0, 0, 1, 0, 0, 0],\n",
    "    7: [0, 0, 0, 0, 0, 0, 0, 1, 0, 0],\n",
    "    8: [0, 0, 0, 0, 0, 0, 0, 0, 1, 0],\n",
    "    9: [0, 0, 0, 0, 0, 0, 0, 0, 0, 1]\n",
    "}\n"
   ]
  },
  {
   "cell_type": "code",
   "execution_count": 12,
   "id": "b6f54287",
   "metadata": {},
   "outputs": [
    {
     "name": "stdout",
     "output_type": "stream",
     "text": [
      "[0, 0, 0, 1, 0, 0, 0, 0, 0, 0]\n"
     ]
    }
   ],
   "source": [
    "print(one_hot_map[3]) "
   ]
  },
  {
   "cell_type": "code",
   "execution_count": 17,
   "id": "b1eab2fc",
   "metadata": {},
   "outputs": [],
   "source": [
    "# define the 784-256-128-10 architecture using Keras\n",
    "\n",
    "model = Sequential()\n",
    "model.add(Dense(256, input_shape=(784,), activation=\"sigmoid\"))\n",
    "model.add(Dense(128, activation=\"sigmoid\"))\n",
    "model.add(Dense(10, activation=\"softmax\"))"
   ]
  },
  {
   "cell_type": "code",
   "execution_count": 18,
   "id": "49e8c602",
   "metadata": {},
   "outputs": [
    {
     "name": "stdout",
     "output_type": "stream",
     "text": [
      "[INFO] training network...\n",
      "Epoch 1/100\n",
      "469/469 [==============================] - 2s 2ms/step - loss: 2.2906 - accuracy: 0.1710 - val_loss: 2.2458 - val_accuracy: 0.3026\n",
      "Epoch 2/100\n",
      "469/469 [==============================] - 1s 2ms/step - loss: 2.2125 - accuracy: 0.3799 - val_loss: 2.1712 - val_accuracy: 0.5566\n",
      "Epoch 3/100\n",
      "469/469 [==============================] - 1s 2ms/step - loss: 2.1264 - accuracy: 0.5206 - val_loss: 2.0677 - val_accuracy: 0.6129\n",
      "Epoch 4/100\n",
      "469/469 [==============================] - 1s 2ms/step - loss: 2.0032 - accuracy: 0.5936 - val_loss: 1.9176 - val_accuracy: 0.6321\n",
      "Epoch 5/100\n",
      "469/469 [==============================] - 1s 2ms/step - loss: 1.8308 - accuracy: 0.6328 - val_loss: 1.7188 - val_accuracy: 0.6680\n",
      "Epoch 6/100\n",
      "469/469 [==============================] - 1s 2ms/step - loss: 1.6203 - accuracy: 0.6696 - val_loss: 1.4981 - val_accuracy: 0.7098\n",
      "Epoch 7/100\n",
      "469/469 [==============================] - 1s 2ms/step - loss: 1.4073 - accuracy: 0.7054 - val_loss: 1.2947 - val_accuracy: 0.7287\n",
      "Epoch 8/100\n",
      "469/469 [==============================] - 1s 2ms/step - loss: 1.2220 - accuracy: 0.7369 - val_loss: 1.1278 - val_accuracy: 0.7482\n",
      "Epoch 9/100\n",
      "469/469 [==============================] - 1s 2ms/step - loss: 1.0736 - accuracy: 0.7610 - val_loss: 0.9967 - val_accuracy: 0.7733\n",
      "Epoch 10/100\n",
      "469/469 [==============================] - 1s 2ms/step - loss: 0.9570 - accuracy: 0.7822 - val_loss: 0.8939 - val_accuracy: 0.7922\n",
      "Epoch 11/100\n",
      "469/469 [==============================] - 1s 2ms/step - loss: 0.8650 - accuracy: 0.7991 - val_loss: 0.8115 - val_accuracy: 0.8108\n",
      "Epoch 12/100\n",
      "469/469 [==============================] - 1s 2ms/step - loss: 0.7911 - accuracy: 0.8133 - val_loss: 0.7450 - val_accuracy: 0.8231\n",
      "Epoch 13/100\n",
      "469/469 [==============================] - 1s 2ms/step - loss: 0.7310 - accuracy: 0.8246 - val_loss: 0.6910 - val_accuracy: 0.8320\n",
      "Epoch 14/100\n",
      "469/469 [==============================] - 1s 2ms/step - loss: 0.6813 - accuracy: 0.8337 - val_loss: 0.6463 - val_accuracy: 0.8379\n",
      "Epoch 15/100\n",
      "469/469 [==============================] - 1s 2ms/step - loss: 0.6400 - accuracy: 0.8415 - val_loss: 0.6081 - val_accuracy: 0.8491\n",
      "Epoch 16/100\n",
      "469/469 [==============================] - 1s 2ms/step - loss: 0.6052 - accuracy: 0.8484 - val_loss: 0.5752 - val_accuracy: 0.8558\n",
      "Epoch 17/100\n",
      "469/469 [==============================] - 1s 2ms/step - loss: 0.5757 - accuracy: 0.8542 - val_loss: 0.5479 - val_accuracy: 0.8587\n",
      "Epoch 18/100\n",
      "469/469 [==============================] - 1s 2ms/step - loss: 0.5502 - accuracy: 0.8590 - val_loss: 0.5246 - val_accuracy: 0.8654\n",
      "Epoch 19/100\n",
      "469/469 [==============================] - 1s 2ms/step - loss: 0.5283 - accuracy: 0.8638 - val_loss: 0.5037 - val_accuracy: 0.8709\n",
      "Epoch 20/100\n",
      "469/469 [==============================] - 1s 2ms/step - loss: 0.5091 - accuracy: 0.8677 - val_loss: 0.4861 - val_accuracy: 0.8740\n",
      "Epoch 21/100\n",
      "469/469 [==============================] - 1s 2ms/step - loss: 0.4922 - accuracy: 0.8714 - val_loss: 0.4703 - val_accuracy: 0.8776\n",
      "Epoch 22/100\n",
      "469/469 [==============================] - 1s 2ms/step - loss: 0.4774 - accuracy: 0.8742 - val_loss: 0.4559 - val_accuracy: 0.8796\n",
      "Epoch 23/100\n",
      "469/469 [==============================] - 1s 2ms/step - loss: 0.4642 - accuracy: 0.8768 - val_loss: 0.4442 - val_accuracy: 0.8812\n",
      "Epoch 24/100\n",
      "469/469 [==============================] - 1s 2ms/step - loss: 0.4522 - accuracy: 0.8798 - val_loss: 0.4326 - val_accuracy: 0.8841\n",
      "Epoch 25/100\n",
      "469/469 [==============================] - 1s 2ms/step - loss: 0.4416 - accuracy: 0.8819 - val_loss: 0.4228 - val_accuracy: 0.8854\n",
      "Epoch 26/100\n",
      "469/469 [==============================] - 1s 2ms/step - loss: 0.4320 - accuracy: 0.8841 - val_loss: 0.4136 - val_accuracy: 0.8886\n",
      "Epoch 27/100\n",
      "469/469 [==============================] - 1s 2ms/step - loss: 0.4233 - accuracy: 0.8852 - val_loss: 0.4054 - val_accuracy: 0.8895\n",
      "Epoch 28/100\n",
      "469/469 [==============================] - 1s 2ms/step - loss: 0.4153 - accuracy: 0.8870 - val_loss: 0.3977 - val_accuracy: 0.8913\n",
      "Epoch 29/100\n",
      "469/469 [==============================] - 1s 2ms/step - loss: 0.4082 - accuracy: 0.8883 - val_loss: 0.3910 - val_accuracy: 0.8932\n",
      "Epoch 30/100\n",
      "469/469 [==============================] - 1s 2ms/step - loss: 0.4015 - accuracy: 0.8899 - val_loss: 0.3847 - val_accuracy: 0.8930\n",
      "Epoch 31/100\n",
      "469/469 [==============================] - 1s 2ms/step - loss: 0.3955 - accuracy: 0.8907 - val_loss: 0.3791 - val_accuracy: 0.8954\n",
      "Epoch 32/100\n",
      "469/469 [==============================] - 1s 2ms/step - loss: 0.3899 - accuracy: 0.8923 - val_loss: 0.3742 - val_accuracy: 0.8964\n",
      "Epoch 33/100\n",
      "469/469 [==============================] - 1s 2ms/step - loss: 0.3846 - accuracy: 0.8932 - val_loss: 0.3687 - val_accuracy: 0.8971\n",
      "Epoch 34/100\n",
      "469/469 [==============================] - 1s 2ms/step - loss: 0.3798 - accuracy: 0.8946 - val_loss: 0.3642 - val_accuracy: 0.8989\n",
      "Epoch 35/100\n",
      "469/469 [==============================] - 1s 2ms/step - loss: 0.3753 - accuracy: 0.8952 - val_loss: 0.3602 - val_accuracy: 0.8983\n",
      "Epoch 36/100\n",
      "469/469 [==============================] - 1s 2ms/step - loss: 0.3710 - accuracy: 0.8961 - val_loss: 0.3565 - val_accuracy: 0.8998\n",
      "Epoch 37/100\n",
      "469/469 [==============================] - 1s 2ms/step - loss: 0.3670 - accuracy: 0.8969 - val_loss: 0.3529 - val_accuracy: 0.8992\n",
      "Epoch 38/100\n",
      "469/469 [==============================] - 1s 2ms/step - loss: 0.3633 - accuracy: 0.8979 - val_loss: 0.3489 - val_accuracy: 0.9015\n",
      "Epoch 39/100\n",
      "469/469 [==============================] - 1s 2ms/step - loss: 0.3598 - accuracy: 0.8986 - val_loss: 0.3460 - val_accuracy: 0.9010\n",
      "Epoch 40/100\n",
      "469/469 [==============================] - 1s 2ms/step - loss: 0.3565 - accuracy: 0.8992 - val_loss: 0.3426 - val_accuracy: 0.9021\n",
      "Epoch 41/100\n",
      "469/469 [==============================] - 1s 2ms/step - loss: 0.3533 - accuracy: 0.8999 - val_loss: 0.3397 - val_accuracy: 0.9035\n",
      "Epoch 42/100\n",
      "469/469 [==============================] - 1s 2ms/step - loss: 0.3502 - accuracy: 0.9007 - val_loss: 0.3369 - val_accuracy: 0.9042\n",
      "Epoch 43/100\n",
      "469/469 [==============================] - 1s 2ms/step - loss: 0.3474 - accuracy: 0.9014 - val_loss: 0.3338 - val_accuracy: 0.9039\n",
      "Epoch 44/100\n",
      "469/469 [==============================] - 1s 2ms/step - loss: 0.3446 - accuracy: 0.9020 - val_loss: 0.3316 - val_accuracy: 0.9045\n",
      "Epoch 45/100\n",
      "469/469 [==============================] - 1s 2ms/step - loss: 0.3420 - accuracy: 0.9026 - val_loss: 0.3294 - val_accuracy: 0.9049\n",
      "Epoch 46/100\n",
      "469/469 [==============================] - 1s 2ms/step - loss: 0.3395 - accuracy: 0.9030 - val_loss: 0.3264 - val_accuracy: 0.9054\n",
      "Epoch 47/100\n",
      "469/469 [==============================] - 1s 2ms/step - loss: 0.3372 - accuracy: 0.9038 - val_loss: 0.3249 - val_accuracy: 0.9063\n",
      "Epoch 48/100\n",
      "469/469 [==============================] - 1s 2ms/step - loss: 0.3348 - accuracy: 0.9046 - val_loss: 0.3222 - val_accuracy: 0.9065\n",
      "Epoch 49/100\n",
      "469/469 [==============================] - 1s 2ms/step - loss: 0.3326 - accuracy: 0.9049 - val_loss: 0.3200 - val_accuracy: 0.9071\n",
      "Epoch 50/100\n",
      "469/469 [==============================] - 1s 2ms/step - loss: 0.3305 - accuracy: 0.9056 - val_loss: 0.3180 - val_accuracy: 0.9085\n",
      "Epoch 51/100\n",
      "469/469 [==============================] - 1s 2ms/step - loss: 0.3283 - accuracy: 0.9058 - val_loss: 0.3161 - val_accuracy: 0.9080\n",
      "Epoch 52/100\n",
      "469/469 [==============================] - 1s 2ms/step - loss: 0.3263 - accuracy: 0.9068 - val_loss: 0.3145 - val_accuracy: 0.9080\n",
      "Epoch 53/100\n",
      "469/469 [==============================] - 1s 2ms/step - loss: 0.3243 - accuracy: 0.9070 - val_loss: 0.3124 - val_accuracy: 0.9092\n",
      "Epoch 54/100\n",
      "469/469 [==============================] - 1s 2ms/step - loss: 0.3225 - accuracy: 0.9077 - val_loss: 0.3112 - val_accuracy: 0.9102\n",
      "Epoch 55/100\n",
      "469/469 [==============================] - 1s 2ms/step - loss: 0.3207 - accuracy: 0.9083 - val_loss: 0.3092 - val_accuracy: 0.9107\n",
      "Epoch 56/100\n",
      "469/469 [==============================] - 1s 2ms/step - loss: 0.3188 - accuracy: 0.9086 - val_loss: 0.3078 - val_accuracy: 0.9111\n",
      "Epoch 57/100\n",
      "469/469 [==============================] - 1s 2ms/step - loss: 0.3172 - accuracy: 0.9090 - val_loss: 0.3056 - val_accuracy: 0.9116\n"
     ]
    },
    {
     "name": "stdout",
     "output_type": "stream",
     "text": [
      "Epoch 58/100\n",
      "469/469 [==============================] - 1s 2ms/step - loss: 0.3155 - accuracy: 0.9098 - val_loss: 0.3052 - val_accuracy: 0.9118\n",
      "Epoch 59/100\n",
      "469/469 [==============================] - 1s 2ms/step - loss: 0.3139 - accuracy: 0.9100 - val_loss: 0.3026 - val_accuracy: 0.9125\n",
      "Epoch 60/100\n",
      "469/469 [==============================] - 1s 2ms/step - loss: 0.3123 - accuracy: 0.9105 - val_loss: 0.3014 - val_accuracy: 0.9123\n",
      "Epoch 61/100\n",
      "469/469 [==============================] - 1s 2ms/step - loss: 0.3107 - accuracy: 0.9112 - val_loss: 0.3001 - val_accuracy: 0.9130\n",
      "Epoch 62/100\n",
      "469/469 [==============================] - 1s 2ms/step - loss: 0.3092 - accuracy: 0.9114 - val_loss: 0.2986 - val_accuracy: 0.9135\n",
      "Epoch 63/100\n",
      "469/469 [==============================] - 1s 2ms/step - loss: 0.3077 - accuracy: 0.9114 - val_loss: 0.2973 - val_accuracy: 0.9133\n",
      "Epoch 64/100\n",
      "469/469 [==============================] - 1s 2ms/step - loss: 0.3063 - accuracy: 0.9119 - val_loss: 0.2957 - val_accuracy: 0.9134\n",
      "Epoch 65/100\n",
      "469/469 [==============================] - 1s 2ms/step - loss: 0.3049 - accuracy: 0.9122 - val_loss: 0.2945 - val_accuracy: 0.9144\n",
      "Epoch 66/100\n",
      "469/469 [==============================] - 1s 2ms/step - loss: 0.3035 - accuracy: 0.9125 - val_loss: 0.2937 - val_accuracy: 0.9138\n",
      "Epoch 67/100\n",
      "469/469 [==============================] - 1s 2ms/step - loss: 0.3021 - accuracy: 0.9131 - val_loss: 0.2922 - val_accuracy: 0.9149\n",
      "Epoch 68/100\n",
      "469/469 [==============================] - 1s 2ms/step - loss: 0.3007 - accuracy: 0.9131 - val_loss: 0.2915 - val_accuracy: 0.9156\n",
      "Epoch 69/100\n",
      "469/469 [==============================] - 1s 2ms/step - loss: 0.2995 - accuracy: 0.9135 - val_loss: 0.2899 - val_accuracy: 0.9163\n",
      "Epoch 70/100\n",
      "469/469 [==============================] - 1s 2ms/step - loss: 0.2982 - accuracy: 0.9139 - val_loss: 0.2892 - val_accuracy: 0.9174\n",
      "Epoch 71/100\n",
      "469/469 [==============================] - 1s 2ms/step - loss: 0.2969 - accuracy: 0.9143 - val_loss: 0.2873 - val_accuracy: 0.9161\n",
      "Epoch 72/100\n",
      "469/469 [==============================] - 1s 2ms/step - loss: 0.2957 - accuracy: 0.9143 - val_loss: 0.2863 - val_accuracy: 0.9165\n",
      "Epoch 73/100\n",
      "469/469 [==============================] - 1s 2ms/step - loss: 0.2944 - accuracy: 0.9147 - val_loss: 0.2853 - val_accuracy: 0.9158\n",
      "Epoch 74/100\n",
      "469/469 [==============================] - 1s 2ms/step - loss: 0.2933 - accuracy: 0.9156 - val_loss: 0.2839 - val_accuracy: 0.9171\n",
      "Epoch 75/100\n",
      "469/469 [==============================] - 1s 2ms/step - loss: 0.2921 - accuracy: 0.9151 - val_loss: 0.2830 - val_accuracy: 0.9170\n",
      "Epoch 76/100\n",
      "469/469 [==============================] - 1s 2ms/step - loss: 0.2910 - accuracy: 0.9159 - val_loss: 0.2821 - val_accuracy: 0.9191\n",
      "Epoch 77/100\n",
      "469/469 [==============================] - 1s 2ms/step - loss: 0.2898 - accuracy: 0.9161 - val_loss: 0.2808 - val_accuracy: 0.9192\n",
      "Epoch 78/100\n",
      "469/469 [==============================] - 1s 2ms/step - loss: 0.2886 - accuracy: 0.9165 - val_loss: 0.2800 - val_accuracy: 0.9182\n",
      "Epoch 79/100\n",
      "469/469 [==============================] - 1s 2ms/step - loss: 0.2876 - accuracy: 0.9170 - val_loss: 0.2791 - val_accuracy: 0.9193\n",
      "Epoch 80/100\n",
      "469/469 [==============================] - 1s 2ms/step - loss: 0.2866 - accuracy: 0.9166 - val_loss: 0.2779 - val_accuracy: 0.9194\n",
      "Epoch 81/100\n",
      "469/469 [==============================] - 1s 2ms/step - loss: 0.2855 - accuracy: 0.9173 - val_loss: 0.2771 - val_accuracy: 0.9189\n",
      "Epoch 82/100\n",
      "469/469 [==============================] - 1s 2ms/step - loss: 0.2843 - accuracy: 0.9175 - val_loss: 0.2763 - val_accuracy: 0.9196\n",
      "Epoch 83/100\n",
      "469/469 [==============================] - 1s 2ms/step - loss: 0.2834 - accuracy: 0.9183 - val_loss: 0.2751 - val_accuracy: 0.9204\n",
      "Epoch 84/100\n",
      "469/469 [==============================] - 1s 2ms/step - loss: 0.2823 - accuracy: 0.9181 - val_loss: 0.2741 - val_accuracy: 0.9206\n",
      "Epoch 85/100\n",
      "469/469 [==============================] - 1s 2ms/step - loss: 0.2813 - accuracy: 0.9185 - val_loss: 0.2735 - val_accuracy: 0.9215\n",
      "Epoch 86/100\n",
      "469/469 [==============================] - 1s 2ms/step - loss: 0.2803 - accuracy: 0.9190 - val_loss: 0.2723 - val_accuracy: 0.9213\n",
      "Epoch 87/100\n",
      "469/469 [==============================] - 1s 2ms/step - loss: 0.2792 - accuracy: 0.9193 - val_loss: 0.2719 - val_accuracy: 0.9213\n",
      "Epoch 88/100\n",
      "469/469 [==============================] - 1s 2ms/step - loss: 0.2783 - accuracy: 0.9194 - val_loss: 0.2708 - val_accuracy: 0.9218\n",
      "Epoch 89/100\n",
      "469/469 [==============================] - 1s 2ms/step - loss: 0.2773 - accuracy: 0.9197 - val_loss: 0.2702 - val_accuracy: 0.9229\n",
      "Epoch 90/100\n",
      "469/469 [==============================] - 1s 2ms/step - loss: 0.2764 - accuracy: 0.9200 - val_loss: 0.2687 - val_accuracy: 0.9227\n",
      "Epoch 91/100\n",
      "469/469 [==============================] - 1s 2ms/step - loss: 0.2753 - accuracy: 0.9203 - val_loss: 0.2682 - val_accuracy: 0.9227\n",
      "Epoch 92/100\n",
      "469/469 [==============================] - 1s 2ms/step - loss: 0.2744 - accuracy: 0.9204 - val_loss: 0.2675 - val_accuracy: 0.9236\n",
      "Epoch 93/100\n",
      "469/469 [==============================] - 1s 2ms/step - loss: 0.2735 - accuracy: 0.9210 - val_loss: 0.2663 - val_accuracy: 0.9237\n",
      "Epoch 94/100\n",
      "469/469 [==============================] - 1s 2ms/step - loss: 0.2725 - accuracy: 0.9210 - val_loss: 0.2656 - val_accuracy: 0.9238\n",
      "Epoch 95/100\n",
      "469/469 [==============================] - 1s 2ms/step - loss: 0.2717 - accuracy: 0.9211 - val_loss: 0.2648 - val_accuracy: 0.9234\n",
      "Epoch 96/100\n",
      "469/469 [==============================] - 1s 2ms/step - loss: 0.2707 - accuracy: 0.9216 - val_loss: 0.2638 - val_accuracy: 0.9241\n",
      "Epoch 97/100\n",
      "469/469 [==============================] - 1s 2ms/step - loss: 0.2697 - accuracy: 0.9214 - val_loss: 0.2634 - val_accuracy: 0.9246\n",
      "Epoch 98/100\n",
      "469/469 [==============================] - 1s 2ms/step - loss: 0.2689 - accuracy: 0.9220 - val_loss: 0.2625 - val_accuracy: 0.9244\n",
      "Epoch 99/100\n",
      "469/469 [==============================] - 1s 2ms/step - loss: 0.2680 - accuracy: 0.9223 - val_loss: 0.2616 - val_accuracy: 0.9243\n",
      "Epoch 100/100\n",
      "469/469 [==============================] - 1s 2ms/step - loss: 0.2671 - accuracy: 0.9224 - val_loss: 0.2608 - val_accuracy: 0.9254\n"
     ]
    }
   ],
   "source": [
    "# train the model using SGD\n",
    "\n",
    "print(\"[INFO] training network...\")\n",
    "sgd = SGD(0.01)\n",
    "model.compile(loss=\"categorical_crossentropy\", optimizer=sgd,\n",
    "metrics=[\"accuracy\"])\n",
    "H = model.fit(trainX, trainY, validation_data=(testX, testY),\n",
    "epochs=100, batch_size=128)"
   ]
  },
  {
   "cell_type": "code",
   "execution_count": 19,
   "id": "746b1d38",
   "metadata": {},
   "outputs": [
    {
     "name": "stdout",
     "output_type": "stream",
     "text": [
      "[INFO] evaluating network...\n",
      "79/79 [==============================] - 0s 928us/step\n",
      "              precision    recall  f1-score   support\n",
      "\n",
      "           0       0.94      0.98      0.96       980\n",
      "           1       0.97      0.98      0.97      1135\n",
      "           2       0.93      0.90      0.92      1032\n",
      "           3       0.91      0.91      0.91      1010\n",
      "           4       0.92      0.93      0.93       982\n",
      "           5       0.91      0.87      0.89       892\n",
      "           6       0.93      0.95      0.94       958\n",
      "           7       0.93      0.92      0.93      1028\n",
      "           8       0.90      0.89      0.89       974\n",
      "           9       0.91      0.91      0.91      1009\n",
      "\n",
      "    accuracy                           0.93     10000\n",
      "   macro avg       0.92      0.92      0.92     10000\n",
      "weighted avg       0.93      0.93      0.93     10000\n",
      "\n"
     ]
    }
   ],
   "source": [
    "# evaluate the network\n",
    "\n",
    "print(\"[INFO] evaluating network...\")\n",
    "predictions = model.predict(testX, batch_size=128)\n",
    "print(classification_report(testY.argmax(axis=1),\n",
    "predictions.argmax(axis=1),\n",
    "target_names=[str(x) for x in lb.classes_]))"
   ]
  },
  {
   "cell_type": "code",
   "execution_count": 20,
   "id": "4c0ac992",
   "metadata": {},
   "outputs": [
    {
     "ename": "SyntaxError",
     "evalue": "invalid decimal literal (155685039.py, line 21)",
     "output_type": "error",
     "traceback": [
      "\u001b[0;36m  File \u001b[0;32m\"/tmp/ipykernel_7538/155685039.py\"\u001b[0;36m, line \u001b[0;32m21\u001b[0m\n\u001b[0;31m    1s - loss: 2.2997 - acc: 0.1088 - val_loss: 2.2918 - val_acc: 0.1145\u001b[0m\n\u001b[0m    ^\u001b[0m\n\u001b[0;31mSyntaxError\u001b[0m\u001b[0;31m:\u001b[0m invalid decimal literal\n"
     ]
    }
   ],
   "source": [
    "# plot the training loss and accuracy\n",
    "plt.style.use(\"ggplot\")\n",
    "plt.figure()\n",
    "plt.plot(np.arange(0, 100), H.history[\"loss\"], label=\"train_loss\")\n",
    "plt.plot(np.arange(0, 100), H.history[\"val_loss\"], label=\"val_loss\")\n",
    "plt.plot(np.arange(0, 100), H.history[\"accuracy\"], label=\"train_acc\")\n",
    "plt.plot(np.arange(0, 100), H.history[\"val_accuracy\"], label=\"val_acc\")\n",
    "plt.title(\"Training Loss and Accuracy\")\n",
    "\n",
    "Page 27 of 32\n",
    "\n",
    "plt.xlabel(\"Epoch #\")\n",
    "plt.ylabel(\"Loss/Accuracy\")\n",
    "plt.legend()\n",
    "plt.savefig(args[\"output\"])\n",
    "$ python keras_mnist.py --output output/keras_mnist.png\n",
    "[INFO] loading MNIST (full) dataset...\n",
    "[INFO] training network...\n",
    "Train on 52500 samples, validate on 17500 samples\n",
    "Epoch 1/100\n",
    "1s - loss: 2.2997 - acc: 0.1088 - val_loss: 2.2918 - val_acc: 0.1145\n",
    "Epoch 2/100\n",
    "1s - loss: 0.2792 - acc: 0.9204 - val_loss: 0.2844 - val_acc: 0.9160\n",
    "[INFO] evaluating network...\n",
    "precision recall f1-score support\n",
    "0.0 0.94 0.96 0.95 1726\n",
    "1.0 0.95 0.97 0.96 2004\n",
    "2.0 0.91 0.89 0.90 1747\n",
    "3.0 0.91 0.88 0.89 1828\n",
    "4.0 0.91 0.93 0.92 1686\n",
    "avg / total 0.92 0.92 0.92 17500"
   ]
  },
  {
   "cell_type": "code",
   "execution_count": 21,
   "id": "da0b9f0d",
   "metadata": {},
   "outputs": [],
   "source": [
    "import os"
   ]
  },
  {
   "cell_type": "code",
   "execution_count": 22,
   "id": "6d8e8474",
   "metadata": {},
   "outputs": [
    {
     "data": {
      "text/plain": [
       "<Figure size 432x288 with 0 Axes>"
      ]
     },
     "execution_count": 22,
     "metadata": {},
     "output_type": "execute_result"
    },
    {
     "data": {
      "text/plain": [
       "<Figure size 432x288 with 0 Axes>"
      ]
     },
     "metadata": {},
     "output_type": "display_data"
    }
   ],
   "source": [
    "# Set the style and initialize the figure\n",
    "plt.style.use(\"ggplot\")\n",
    "plt.figure()"
   ]
  },
  {
   "cell_type": "code",
   "execution_count": 27,
   "id": "1c10cce2",
   "metadata": {},
   "outputs": [
    {
     "data": {
      "text/plain": [
       "<matplotlib.legend.Legend at 0x719ff4d39240>"
      ]
     },
     "execution_count": 27,
     "metadata": {},
     "output_type": "execute_result"
    },
    {
     "data": {
      "image/png": "[encoded data removed]",
      "text/plain": [
       "<Figure size 432x288 with 1 Axes>"
      ]
     },
     "metadata": {
      "needs_background": "light"
     },
     "output_type": "display_data"
    }
   ],
   "source": [
    "# Plot training and validation loss\n",
    "plt.plot(np.arange(0, 100), H.history[\"loss\"], label=\"train_loss\")\n",
    "plt.plot(np.arange(0, 100), H.history[\"val_loss\"], label=\"val_loss\")\n",
    "\n",
    "# Plot training and validation accuracy\n",
    "plt.plot(np.arange(0, 100), H.history[\"accuracy\"], label=\"train_acc\")\n",
    "plt.plot(np.arange(0, 100), H.history[\"val_accuracy\"], label=\"val_acc\")\n",
    "\n",
    "# Add title and axis labels\n",
    "plt.title(\"Training Loss and Accuracy on MNIST\")\n",
    "plt.xlabel(\"Epoch #\")\n",
    "plt.ylabel(\"Loss/Accuracy\")\n",
    "plt.legend()"
   ]
  },
  {
   "cell_type": "code",
   "execution_count": 28,
   "id": "ab0adb4e",
   "metadata": {},
   "outputs": [
    {
     "name": "stdout",
     "output_type": "stream",
     "text": [
      "[INFO] Plot saved to: output/keras_mnist.png\n"
     ]
    },
    {
     "data": {
      "text/plain": [
       "<Figure size 432x288 with 0 Axes>"
      ]
     },
     "metadata": {},
     "output_type": "display_data"
    }
   ],
   "source": [
    "# Save the figure to file\n",
    "output_path = \"output/keras_mnist.png\"\n",
    "os.makedirs(os.path.dirname(output_path), exist_ok=True)\n",
    "plt.savefig(output_path)\n",
    "print(f\"[INFO] Plot saved to: {output_path}\")"
   ]
  },
  {
   "cell_type": "code",
   "execution_count": 30,
   "id": "5f583702",
   "metadata": {},
   "outputs": [],
   "source": [
    "import random"
   ]
  },
  {
   "cell_type": "code",
   "execution_count": 42,
   "id": "9812ef68",
   "metadata": {
    "scrolled": true
   },
   "outputs": [
    {
     "data": {
      "image/png": "[encoded data removed]",
      "text/plain": [
       "<Figure size 432x288 with 1 Axes>"
      ]
     },
     "metadata": {
      "needs_background": "light"
     },
     "output_type": "display_data"
    },
    {
     "name": "stdout",
     "output_type": "stream",
     "text": [
      "313/313 [==============================] - 0s 599us/step\n",
      "The Predicted class is : 6\n"
     ]
    }
   ],
   "source": [
    "n = random.randint(0, testX.shape[0]-1)\n",
    "plt.imshow(testX[n].reshape(28, 28), cmap='gray')\n",
    "plt.title(\"Actual Digit (label not shown here)\")\n",
    "plt.show()\n",
    "predicted_value = model.predict(testX)\n",
    "print(f\"The Predicted class is : {np.argmax(predicted_value[n])}\")"
   ]
  },
  {
   "cell_type": "code",
   "execution_count": 43,
   "id": "bf746494",
   "metadata": {},
   "outputs": [
    {
     "data": {
      "image/png": "[encoded data removed]",
      "text/plain": [
       "<Figure size 432x288 with 1 Axes>"
      ]
     },
     "metadata": {
      "needs_background": "light"
     },
     "output_type": "display_data"
    },
    {
     "name": "stdout",
     "output_type": "stream",
     "text": [
      "313/313 [==============================] - 0s 589us/step\n",
      "The Predicted class is : 1\n"
     ]
    }
   ],
   "source": [
    "n = random.randint(0, testX.shape[0]-1)\n",
    "plt.imshow(testX[n].reshape(28, 28), cmap='gray')\n",
    "plt.title(\"Actual Digit (label not shown here)\")\n",
    "plt.show()\n",
    "predicted_value = model.predict(testX)\n",
    "print(f\"The Predicted class is : {np.argmax(predicted_value[n])}\")"
   ]
  },
  {
   "cell_type": "code",
   "execution_count": 44,
   "id": "9aea63dc",
   "metadata": {},
   "outputs": [
    {
     "data": {
      "image/png": "[encoded data removed]",
      "text/plain": [
       "<Figure size 432x288 with 1 Axes>"
      ]
     },
     "metadata": {
      "needs_background": "light"
     },
     "output_type": "display_data"
    },
    {
     "name": "stdout",
     "output_type": "stream",
     "text": [
      "313/313 [==============================] - 0s 579us/step\n",
      "The Predicted class is : 1\n"
     ]
    }
   ],
   "source": [
    "n = random.randint(0, testX.shape[0]-1)\n",
    "plt.imshow(testX[n].reshape(28, 28), cmap='gray')\n",
    "plt.title(\"Actual Digit (label not shown here)\")\n",
    "plt.show()\n",
    "predicted_value = model.predict(testX)\n",
    "print(f\"The Predicted class is : {np.argmax(predicted_value[n])}\")"
   ]
  },
  {
   "cell_type": "code",
   "execution_count": 45,
   "id": "56440fed",
   "metadata": {},
   "outputs": [
    {
     "data": {
      "image/png": "[encoded data removed]",
      "text/plain": [
       "<Figure size 432x288 with 1 Axes>"
      ]
     },
     "metadata": {
      "needs_background": "light"
     },
     "output_type": "display_data"
    },
    {
     "name": "stdout",
     "output_type": "stream",
     "text": [
      "313/313 [==============================] - 0s 591us/step\n",
      "The Predicted class is : 9\n"
     ]
    }
   ],
   "source": [
    "n = random.randint(0, testX.shape[0]-1)\n",
    "plt.imshow(testX[n].reshape(28, 28), cmap='gray')\n",
    "plt.title(\"Actual Digit (label not shown here)\")\n",
    "plt.show()\n",
    "predicted_value = model.predict(testX)\n",
    "print(f\"The Predicted class is : {np.argmax(predicted_value[n])}\")"
   ]
  },
  {
   "cell_type": "code",
   "execution_count": 46,
   "id": "b330284f",
   "metadata": {},
   "outputs": [
    {
     "data": {
      "image/png": "[encoded data removed]",
      "text/plain": [
       "<Figure size 432x288 with 1 Axes>"
      ]
     },
     "metadata": {
      "needs_background": "light"
     },
     "output_type": "display_data"
    },
    {
     "name": "stdout",
     "output_type": "stream",
     "text": [
      "313/313 [==============================] - 0s 601us/step\n",
      "The Predicted class is : 3\n"
     ]
    }
   ],
   "source": [
    "n = random.randint(0, testX.shape[0]-1)\n",
    "plt.imshow(testX[n].reshape(28, 28), cmap='gray')\n",
    "plt.title(\"Actual Digit (label not shown here)\")\n",
    "plt.show()\n",
    "predicted_value = model.predict(testX)\n",
    "print(f\"The Predicted class is : {np.argmax(predicted_value[n])}\")"
   ]
  },
  {
   "cell_type": "code",
   "execution_count": 47,
   "id": "07ec937e",
   "metadata": {},
   "outputs": [
    {
     "data": {
      "image/png": "[encoded data removed]",
      "text/plain": [
       "<Figure size 432x288 with 1 Axes>"
      ]
     },
     "metadata": {
      "needs_background": "light"
     },
     "output_type": "display_data"
    },
    {
     "name": "stdout",
     "output_type": "stream",
     "text": [
      "313/313 [==============================] - 0s 589us/step\n",
      "The Predicted class is : 8\n"
     ]
    }
   ],
   "source": [
    "n = random.randint(0, testX.shape[0]-1)\n",
    "plt.imshow(testX[n].reshape(28, 28), cmap='gray')\n",
    "plt.title(\"Actual Digit (label not shown here)\")\n",
    "plt.show()\n",
    "predicted_value = model.predict(testX)\n",
    "print(f\"The Predicted class is : {np.argmax(predicted_value[n])}\")"
   ]
  },
  {
   "cell_type": "code",
   "execution_count": null,
   "id": "c7e1435b",
   "metadata": {},
   "outputs": [],
   "source": []
  }
 ],
 "metadata": {
  "kernelspec": {
   "display_name": "Python 3 (ipykernel)",
   "language": "python",
   "name": "python3"
  },
  "language_info": {
   "codemirror_mode": {
    "name": "ipython",
    "version": 3
   },
   "file_extension": ".py",
   "mimetype": "text/x-python",
   "name": "python",
   "nbconvert_exporter": "python",
   "pygments_lexer": "ipython3",
   "version": "3.10.12"
  }
 },
 "nbformat": 4,
 "nbformat_minor": 5
}
